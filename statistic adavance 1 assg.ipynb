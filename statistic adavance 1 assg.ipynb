{
 "cells": [
  {
   "cell_type": "code",
   "execution_count": 1,
   "id": "e304edf9-1e9f-421f-8277-1d06f5e8285f",
   "metadata": {},
   "outputs": [],
   "source": [
    "#Q1. What is the Probability density function?"
   ]
  },
  {
   "cell_type": "code",
   "execution_count": 8,
   "id": "544e455d-bbbf-47fd-adac-49127c49fac1",
   "metadata": {},
   "outputs": [
    {
     "data": {
      "text/plain": [
       "'The Probability Density Function (PDF) is a fundamental concept in probability and statistics. It is used to describe the likelihood of a continuous random variable taking on a specific value. The PDF assigns probabilities to different values within the range of a continuous random variable. In mathematical terms, the PDF of a continuous random variable X, denoted as f(x), is such that for any two values a and b (a ≤ b), the probability that X falls within the interval [a, b] is given by the integral of f(x) from a to b:\\n\\n�\\n(\\n�\\n≤\\n�\\n≤\\n�\\n)\\n=\\n∫\\n�\\n�\\n�\\n(\\n�\\n)\\n�\\n�\\nP(a≤X≤b)=∫ \\na\\nb\\n\\u200b\\n f(x)dx\\n\\nIn simpler terms, the PDF represents the probability of a continuous random variable having a particular value.'"
      ]
     },
     "execution_count": 8,
     "metadata": {},
     "output_type": "execute_result"
    }
   ],
   "source": [
    "'''The Probability Density Function (PDF) is a fundamental concept in probability and statistics. It is used to describe the likelihood of a continuous random variable taking on a specific value. The PDF assigns probabilities to different values within the range of a continuous random variable. In mathematical terms, the PDF of a continuous random variable X, denoted as f(x), is such that for any two values a and b (a ≤ b), the probability that X falls within the interval [a, b] is given by the integral of f(x) from a to b:\n",
    "\n",
    "�\n",
    "(\n",
    "�\n",
    "≤\n",
    "�\n",
    "≤\n",
    "�\n",
    ")\n",
    "=\n",
    "∫\n",
    "�\n",
    "�\n",
    "�\n",
    "(\n",
    "�\n",
    ")\n",
    "�\n",
    "�\n",
    "P(a≤X≤b)=∫ \n",
    "a\n",
    "b\n",
    "​\n",
    " f(x)dx\n",
    "\n",
    "In simpler terms, the PDF represents the probability of a continuous random variable having a particular value.'''"
   ]
  },
  {
   "cell_type": "code",
   "execution_count": 2,
   "id": "9063f733-34e8-425f-8f85-c8d408153809",
   "metadata": {},
   "outputs": [],
   "source": [
    "#Q2. What are the types of Probability distribution?"
   ]
  },
  {
   "cell_type": "code",
   "execution_count": 10,
   "id": "c94bafc0-2a16-46bf-8878-a60f9a99375d",
   "metadata": {},
   "outputs": [
    {
     "data": {
      "text/plain": [
       "\"ans =  There are several types of probability distributions, but some of the most common ones include:\\n\\nUniform Distribution: All outcomes are equally likely within a given range.\\n\\nNormal Distribution (Gaussian Distribution): Bell-shaped distribution that is symmetric and characterized by mean and standard deviation.\\n\\nBinomial Distribution: Describes the number of successes in a fixed number of independent Bernoulli trials.\\n\\nPoisson Distribution: Models the number of events occurring in a fixed interval of time or space.\\n\\nExponential Distribution: Describes the time between events in a Poisson process.\\n\\nGeometric Distribution: Models the number of trials needed for the first success in a sequence of Bernoulli trials.\\n\\nBernoulli Distribution: Represents two possible outcomes (success or failure) in a single trial.\\n\\nGamma Distribution: Generalization of the exponential distribution, often used for waiting times.\\n\\nChi-Square Distribution: Used in hypothesis testing and confidence interval estimation.\\n\\nStudent's t-Distribution: Used in hypothesis testing when the sample size is small and population standard deviation is unknown.\\n\\nF-Distribution: Used in statistical hypothesis testing, often related to the analysis of variances.\""
      ]
     },
     "execution_count": 10,
     "metadata": {},
     "output_type": "execute_result"
    }
   ],
   "source": [
    "'''ans =  There are several types of probability distributions, but some of the most common ones include:\n",
    "\n",
    "Uniform Distribution: All outcomes are equally likely within a given range.\n",
    "\n",
    "Normal Distribution (Gaussian Distribution): Bell-shaped distribution that is symmetric and characterized by mean and standard deviation.\n",
    "\n",
    "Binomial Distribution: Describes the number of successes in a fixed number of independent Bernoulli trials.\n",
    "\n",
    "Poisson Distribution: Models the number of events occurring in a fixed interval of time or space.\n",
    "\n",
    "Exponential Distribution: Describes the time between events in a Poisson process.\n",
    "\n",
    "Geometric Distribution: Models the number of trials needed for the first success in a sequence of Bernoulli trials.\n",
    "\n",
    "Bernoulli Distribution: Represents two possible outcomes (success or failure) in a single trial.\n",
    "\n",
    "Gamma Distribution: Generalization of the exponential distribution, often used for waiting times.\n",
    "\n",
    "Chi-Square Distribution: Used in hypothesis testing and confidence interval estimation.\n",
    "\n",
    "Student's t-Distribution: Used in hypothesis testing when the sample size is small and population standard deviation is unknown.\n",
    "\n",
    "F-Distribution: Used in statistical hypothesis testing, often related to the analysis of variances.'''"
   ]
  },
  {
   "cell_type": "code",
   "execution_count": 3,
   "id": "98d729c1-3087-439c-bb22-9a58608b1b87",
   "metadata": {},
   "outputs": [],
   "source": [
    "#Q3. Write a Python function to calculate the probability density function of a normal distribution with given mean and standard deviation at a given point.\n"
   ]
  },
  {
   "cell_type": "code",
   "execution_count": 11,
   "id": "72e8125b-ddf6-497e-bfc7-a192dcfea05a",
   "metadata": {},
   "outputs": [],
   "source": [
    "import math\n",
    "\n",
    "def normal_pdf(x, mean, std_dev):\n",
    "    \"\"\"\n",
    "    Calculate the probability density function (PDF) of a normal distribution at a given point x.\n",
    "\n",
    "    Parameters:\n",
    "    x (float): The point at which to calculate the PDF.\n",
    "    mean (float): The mean (average) of the normal distribution.\n",
    "    std_dev (float): The standard deviation of the normal distribution.\n",
    "\n",
    "    Returns:\n",
    "    float: The PDF value at the given point x.\n",
    "    \"\"\"\n",
    "    coefficient = 1 / (std_dev * math.sqrt(2 * math.pi))\n",
    "    exponent = -((x - mean) ** 2) / (2 * std_dev ** 2)\n",
    "    pdf = coefficient * math.exp(exponent)\n",
    "    return pdf\n"
   ]
  },
  {
   "cell_type": "code",
   "execution_count": 4,
   "id": "331bfef1-3d9a-450e-985c-4b52585ee8f1",
   "metadata": {},
   "outputs": [],
   "source": [
    "#Q4. What are the properties of Binomial distribution? Give two examples of events where binomial distribution can be applied."
   ]
  },
  {
   "cell_type": "code",
   "execution_count": 12,
   "id": "d72dffd9-fc36-482f-8d53-7ab729c4c6b4",
   "metadata": {},
   "outputs": [
    {
     "data": {
      "text/plain": [
       "'The binomial distribution describes a discrete random variable.\\nIt models the number of successes (usually denoted as \"k\") in a fixed number of independent Bernoulli trials.\\nThe distribution is defined by two parameters: n (the number of trials) and p (the probability of success in a single trial).\\nThe mean (expected value) of a binomial distribution is given by μ = np.\\nThe variance of a binomial distribution is given by σ^2 = np(1-p).\\nIt is symmetric if p = 0.5 and becomes increasingly skewed as p deviates from 0.5.\\nThe binomial distribution can be approximated by a normal distribution when n is large and p is not too close to 0 or 1.\\nTwo examples of events where binomial distribution can be applied:\\n\\nCoin Toss: Modeling the number of heads obtained when flipping a coin n times, where p is the probability of getting heads on a single flip.\\n\\nQuality Control: Determining the number of defective items in a batch of n items produced in a manufacturing process, where p represents the probability of an item being defective.'"
      ]
     },
     "execution_count": 12,
     "metadata": {},
     "output_type": "execute_result"
    }
   ],
   "source": [
    "'''The binomial distribution describes a discrete random variable.\n",
    "It models the number of successes (usually denoted as \"k\") in a fixed number of independent Bernoulli trials.\n",
    "The distribution is defined by two parameters: n (the number of trials) and p (the probability of success in a single trial).\n",
    "The mean (expected value) of a binomial distribution is given by μ = np.\n",
    "The variance of a binomial distribution is given by σ^2 = np(1-p).\n",
    "It is symmetric if p = 0.5 and becomes increasingly skewed as p deviates from 0.5.\n",
    "The binomial distribution can be approximated by a normal distribution when n is large and p is not too close to 0 or 1.\n",
    "Two examples of events where binomial distribution can be applied:\n",
    "\n",
    "Coin Toss: Modeling the number of heads obtained when flipping a coin n times, where p is the probability of getting heads on a single flip.\n",
    "\n",
    "Quality Control: Determining the number of defective items in a batch of n items produced in a manufacturing process, where p represents the probability of an item being defective.'''"
   ]
  },
  {
   "cell_type": "code",
   "execution_count": 5,
   "id": "46d31d92-8ca5-490a-ad39-329798adc871",
   "metadata": {},
   "outputs": [],
   "source": [
    "#Q5. Generate a random sample of size 1000 from a binomial distribution with probability of success 0.4 and plot a histogram of the results using matplotlib."
   ]
  },
  {
   "cell_type": "code",
   "execution_count": 13,
   "id": "41fd8a43-19c6-4a5d-8ec6-5edd4594360d",
   "metadata": {},
   "outputs": [
    {
     "data": {
      "image/png": "[encoded data removed]",
      "text/plain": [
       "<Figure size 640x480 with 1 Axes>"
      ]
     },
     "metadata": {},
     "output_type": "display_data"
    }
   ],
   "source": [
    "import numpy as np\n",
    "import matplotlib.pyplot as plt\n",
    "\n",
    "# Parameters\n",
    "n = 1000  # Sample size\n",
    "p = 0.4   # Probability of success\n",
    "\n",
    "# Generate random sample from binomial distribution\n",
    "sample = np.random.binomial(n=1, p=p, size=n)\n",
    "\n",
    "# Plot histogram\n",
    "plt.hist(sample, bins=2, density=True, alpha=0.6, color='g')\n",
    "plt.xlabel('Success (1) or Failure (0)')\n",
    "plt.ylabel('Probability')\n",
    "plt.title(f'Binomial Distribution (n={n}, p={p})')\n",
    "plt.grid(True)\n",
    "plt.show()\n"
   ]
  },
  {
   "cell_type": "code",
   "execution_count": 14,
   "id": "654eced2-9af3-4305-a25c-cca26eae0bf7",
   "metadata": {},
   "outputs": [],
   "source": [
    "#Q6. Write a Python function to calculate the cumulative distribution function of a Poisson distribution with given mean at a given point.\n"
   ]
  },
  {
   "cell_type": "code",
   "execution_count": 19,
   "id": "239764f7-2c68-4ff3-b8d7-9565cfbbc3af",
   "metadata": {},
   "outputs": [],
   "source": [
    "import math\n",
    "\n",
    "def poisson_cdf(k, mean):\n",
    "    \"\"\"\n",
    "    Calculate the cumulative distribution function (CDF) of a Poisson distribution at a given point k.\n",
    "\n",
    "    Parameters:\n",
    "    k (int): The point at which to calculate the CDF.\n",
    "    mean (float): The mean of the Poisson distribution.\n",
    "\n",
    "    Returns:\n",
    "    float: The CDF value at the given point k.\n",
    "    \"\"\"\n",
    "    cdf = 0.0\n",
    "    for i in range(k + 1):\n",
    "        cdf += (math.exp(-mean) * mean**i) / math.factorial(i)\n",
    "    return cdf\n"
   ]
  },
  {
   "cell_type": "code",
   "execution_count": 15,
   "id": "60b6986e-a6ec-4c1c-a9bf-503b87db74d6",
   "metadata": {},
   "outputs": [],
   "source": [
    "#Q7. How Binomial distribution different from Poisson distribution?\n"
   ]
  },
  {
   "cell_type": "code",
   "execution_count": 20,
   "id": "449d4ef3-cc5d-465f-b696-0d6e8be9c505",
   "metadata": {},
   "outputs": [
    {
     "data": {
      "text/plain": [
       "'Binomial Distribution:\\n\\nModels the number of successes (k) in a fixed number of independent Bernoulli trials (n).\\nRequires two parameters: n (number of trials) and p (probability of success in a single trial).\\nDiscrete distribution (values are integers).\\nSuitable for situations with a fixed number of trials and finite outcomes.\\nExamples include coin tosses, quality control, and the number of students passing an exam.\\nPoisson Distribution:\\n\\nModels the number of events (k) occurring in a fixed interval of time or space.\\nRequires one parameter: λ (average rate of events occurring per unit interval).\\nDiscrete distribution (values are integers).\\nSuitable for situations where events are rare, but the average rate is known.\\nExamples include the number of customer arrivals at a store, the number of emails received in an hour, and the number of accidents at an intersection.'"
      ]
     },
     "execution_count": 20,
     "metadata": {},
     "output_type": "execute_result"
    }
   ],
   "source": [
    "'''Binomial Distribution:\n",
    "\n",
    "Models the number of successes (k) in a fixed number of independent Bernoulli trials (n).\n",
    "Requires two parameters: n (number of trials) and p (probability of success in a single trial).\n",
    "Discrete distribution (values are integers).\n",
    "Suitable for situations with a fixed number of trials and finite outcomes.\n",
    "Examples include coin tosses, quality control, and the number of students passing an exam.\n",
    "Poisson Distribution:\n",
    "\n",
    "Models the number of events (k) occurring in a fixed interval of time or space.\n",
    "Requires one parameter: λ (average rate of events occurring per unit interval).\n",
    "Discrete distribution (values are integers).\n",
    "Suitable for situations where events are rare, but the average rate is known.\n",
    "Examples include the number of customer arrivals at a store, the number of emails received in an hour, and the number of accidents at an intersection.'''"
   ]
  },
  {
   "cell_type": "code",
   "execution_count": 21,
   "id": "2a116bca-a8ba-46d8-8277-9d96882d5e65",
   "metadata": {},
   "outputs": [],
   "source": [
    "#Q8. Generate a random sample of size 1000 from a Poisson distribution with mean 5 and calculate the sample mean and variance.\n"
   ]
  },
  {
   "cell_type": "code",
   "execution_count": 22,
   "id": "1f35071d-cbf8-4157-a92b-c2b57f6acdbd",
   "metadata": {},
   "outputs": [
    {
     "name": "stdout",
     "output_type": "stream",
     "text": [
      "Sample Mean: 5.014\n",
      "Sample Variance: 4.933804\n"
     ]
    }
   ],
   "source": [
    "import numpy as np\n",
    "\n",
    "# Parameters\n",
    "mean = 5\n",
    "sample_size = 1000\n",
    "\n",
    "# Generate random sample from Poisson distribution\n",
    "sample = np.random.poisson(mean, size=sample_size)\n",
    "\n",
    "# Calculate sample mean and variance\n",
    "sample_mean = np.mean(sample)\n",
    "sample_variance = np.var(sample)\n",
    "\n",
    "print(f\"Sample Mean: {sample_mean}\")\n",
    "print(f\"Sample Variance: {sample_variance}\")\n"
   ]
  },
  {
   "cell_type": "code",
   "execution_count": 17,
   "id": "363cfcce-b7de-43c8-a722-79b29580a1a0",
   "metadata": {},
   "outputs": [],
   "source": [
    "#Q9. How mean and variance are related in Binomial distribution and Poisson distribution?\n"
   ]
  },
  {
   "cell_type": "code",
   "execution_count": 23,
   "id": "18cc220d-0f7c-4c8a-8a50-bdce55dcf7c0",
   "metadata": {},
   "outputs": [
    {
     "data": {
      "text/plain": [
       "'In a Binomial distribution, the mean (μ) is equal to n * p, where n is the number of trials and p is the probability of success in a single trial. The variance (σ^2) is equal to n * p * (1 - p).\\n\\nIn a Poisson distribution, both the mean (λ) and the variance (σ^2) are equal to λ, which represents the average rate of events occurring in a fixed interval. Therefore, in a Poisson distribution, the mean and variance are the same.'"
      ]
     },
     "execution_count": 23,
     "metadata": {},
     "output_type": "execute_result"
    }
   ],
   "source": [
    "'''In a Binomial distribution, the mean (μ) is equal to n * p, where n is the number of trials and p is the probability of success in a single trial. The variance (σ^2) is equal to n * p * (1 - p).\n",
    "\n",
    "In a Poisson distribution, both the mean (λ) and the variance (σ^2) are equal to λ, which represents the average rate of events occurring in a fixed interval. Therefore, in a Poisson distribution, the mean and variance are the same.'''"
   ]
  },
  {
   "cell_type": "code",
   "execution_count": 18,
   "id": "8f84a7cb-a13e-435e-812b-ba1f315c4329",
   "metadata": {},
   "outputs": [],
   "source": [
    "#Q10. In normal distribution with respect to mean position, where does the least frequent data appear?"
   ]
  },
  {
   "cell_type": "code",
   "execution_count": 24,
   "id": "8ed86750-0d58-4e84-900a-88b851f0a414",
   "metadata": {},
   "outputs": [
    {
     "data": {
      "text/plain": [
       "'10. ans = In a normal distribution, the least frequent data appears in the tails of the distribution, farthest away from the mean. Specifically, the data in the tails (either the left tail or the right tail) that is the furthest from the mean is the least frequent. This is because the normal distribution is symmetric, and the probability density decreases as you move away from the mean in either direction.'"
      ]
     },
     "execution_count": 24,
     "metadata": {},
     "output_type": "execute_result"
    }
   ],
   "source": [
    "'''10. ans = In a normal distribution, the least frequent data appears in the tails of the distribution, farthest away from the mean. Specifically, the data in the tails (either the left tail or the right tail) that is the furthest from the mean is the least frequent. This is because the normal distribution is symmetric, and the probability density decreases as you move away from the mean in either direction.'''"
   ]
  },
  {
   "cell_type": "code",
   "execution_count": null,
   "id": "06a6a294-2d65-48ac-aeb6-7dd9afba243b",
   "metadata": {},
   "outputs": [],
   "source": []
  }
 ],
 "metadata": {
  "kernelspec": {
   "display_name": "Python 3 (ipykernel)",
   "language": "python",
   "name": "python3"
  },
  "language_info": {
   "codemirror_mode": {
    "name": "ipython",
    "version": 3
   },
   "file_extension": ".py",
   "mimetype": "text/x-python",
   "name": "python",
   "nbconvert_exporter": "python",
   "pygments_lexer": "ipython3",
   "version": "3.10.8"
  }
 },
 "nbformat": 4,
 "nbformat_minor": 5
}
